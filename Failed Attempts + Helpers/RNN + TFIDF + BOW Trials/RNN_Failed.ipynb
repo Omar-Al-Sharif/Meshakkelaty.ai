{
  "cells": [
    {
      "cell_type": "code",
      "execution_count": 1,
      "metadata": {
        "colab": {
          "base_uri": "https://localhost:8080/"
        },
        "id": "sTYU5aC0Dzal",
        "outputId": "555f34eb-74b1-4f22-ac7f-a626e7658d55"
      },
      "outputs": [
        {
          "output_type": "stream",
          "name": "stdout",
          "text": [
            "Colab: mounting Google drive on  /content/gdrive\n",
            "Mounted at /content/gdrive\n",
            "\n",
            "Colab: making sure  /content/gdrive/My Drive/NLP project/NLP_tr3  exists.\n",
            "\n",
            "Colab: Changing directory to  /content/gdrive/My Drive/NLP project/NLP_tr3\n",
            "/content/gdrive/.shortcut-targets-by-id/1mteAAQwDYIOMp5NTHF20es2OzhXGCvMK/NLP_tr3\n"
          ]
        }
      ],
      "source": [
        "from google.colab import drive\n",
        "# Mount the Google Drive at mount\n",
        "mount='/content/gdrive'\n",
        "print(\"Colab: mounting Google drive on \", mount)\n",
        "\n",
        "drive.mount(mount)\n",
        "\n",
        "# Switch to the directory on the Google Drive that you want to use\n",
        "import os\n",
        "drive_root = mount + \"/My Drive/NLP project/NLP_tr3\"\n",
        "\n",
        "# Create drive_root if it doesn't exist\n",
        "create_drive_root = True\n",
        "if create_drive_root:\n",
        "  print(\"\\nColab: making sure \", drive_root, \" exists.\")\n",
        "  os.makedirs(drive_root, exist_ok=True)\n",
        "\n",
        "# Change to the directory\n",
        "print(\"\\nColab: Changing directory to \", drive_root)\n",
        "%cd $drive_root"
      ]
    },
    {
      "cell_type": "code",
      "execution_count": 2,
      "metadata": {
        "id": "tRcAmKOiFDl9"
      },
      "outputs": [],
      "source": [
        "import time\n",
        "import random\n",
        "import numpy as np\n",
        "import pickle as pkl\n",
        "from sklearn.feature_extraction.text import TfidfVectorizer,CountVectorizer"
      ]
    },
    {
      "cell_type": "code",
      "execution_count": 3,
      "metadata": {
        "id": "TLtA_zv1FPK1"
      },
      "outputs": [],
      "source": [
        "WITH_EXTRA_TRAIN = False\n",
        "DATASET_PATH = drive_root + '/dataset'\n",
        "CONSTANTS_PATH = drive_root + '/helpers/constants'\n",
        "\n",
        "with open(CONSTANTS_PATH + '/ARABIC_LETTERS_LIST.pickle', 'rb') as file:\n",
        "    ARABIC_LETTERS_LIST = pkl.load(file)\n",
        "with open(CONSTANTS_PATH + '/DIACRITICS_LIST.pickle', 'rb') as file:\n",
        "    DIACRITICS_LIST = pkl.load(file)\n",
        "if not WITH_EXTRA_TRAIN:\n",
        "    with open(CONSTANTS_PATH + '/RNN_SMALL_CHARACTERS_MAPPING.pickle', 'rb') as file:\n",
        "        CHARACTERS_MAPPING = pkl.load(file)\n",
        "else:\n",
        "    with open(CONSTANTS_PATH + '/RNN_BIG_CHARACTERS_MAPPING.pickle', 'rb') as file:\n",
        "        CHARACTERS_MAPPING = pkl.load(file)\n",
        "with open(CONSTANTS_PATH + '/RNN_CLASSES_MAPPING.pickle', 'rb') as file:\n",
        "    CLASSES_MAPPING = pkl.load(file)\n",
        "with open(CONSTANTS_PATH + '/RNN_REV_CLASSES_MAPPING.pickle', 'rb') as file:\n",
        "    REV_CLASSES_MAPPING = pkl.load(file)"
      ]
    },
    {
      "cell_type": "code",
      "execution_count": 4,
      "metadata": {
        "colab": {
          "base_uri": "https://localhost:8080/"
        },
        "id": "-TqZ_ehuF4lj",
        "outputId": "7a76a263-6ba1-4914-cde6-c8bbc79f02fa"
      },
      "outputs": [
        {
          "output_type": "stream",
          "name": "stdout",
          "text": [
            "Training examples (raw): 50000\n",
            "Validation examples (raw): 2500\n"
          ]
        }
      ],
      "source": [
        "train_raw = None\n",
        "with open(DATASET_PATH + '/train.txt', 'r', encoding='utf-8') as file:\n",
        "    train_raw = file.readlines()\n",
        "if WITH_EXTRA_TRAIN:\n",
        "    with open(DATASET_PATH + '/extra_train.txt', encoding='utf-8') as file:\n",
        "        train_raw += file.readlines()\n",
        "print('Training examples (raw):', len(train_raw))\n",
        "\n",
        "val_raw = None\n",
        "with open(DATASET_PATH + '/val.txt', encoding='utf-8') as file:\n",
        "    val_raw = file.readlines()\n",
        "print('Validation examples (raw):', len(val_raw))"
      ]
    },
    {
      "cell_type": "code",
      "execution_count": 5,
      "metadata": {
        "id": "GUJG89UpF7-Z"
      },
      "outputs": [],
      "source": [
        "def remove_diacritics(data_raw):\n",
        "    return data_raw.translate(str.maketrans('', '', ''.join(DIACRITICS_LIST)))\n",
        "\n",
        "def to_one_hot(data, size):\n",
        "    one_hot = list()\n",
        "    for elem in data:\n",
        "        cur = [0] * size\n",
        "        cur[elem] = 1\n",
        "        one_hot.append(cur)\n",
        "    return one_hot\n",
        "\n",
        "def split_data(data_raw):\n",
        "    data_new = list()\n",
        "\n",
        "    for line in data_raw:\n",
        "        line = line.replace('.', '.\\n')\n",
        "        line = line.replace(',', ',\\n')\n",
        "        line = line.replace('،', '،\\n')\n",
        "        line = line.replace(':', ':\\n')\n",
        "        line = line.replace(';', ';\\n')\n",
        "        line = line.replace('؛', '؛\\n')\n",
        "        line = line.replace('(', '\\n(')\n",
        "        line = line.replace(')', ')\\n')\n",
        "        line = line.replace('[', '\\n[')\n",
        "        line = line.replace(']', ']\\n')\n",
        "        line = line.replace('{', '\\n{')\n",
        "        line = line.replace('}', '}\\n')\n",
        "        line = line.replace('«', '\\n«')\n",
        "        line = line.replace('»', '»\\n')\n",
        "\n",
        "        for sub_line in line.split('\\n'):\n",
        "            if len(remove_diacritics(sub_line).strip()) == 0:\n",
        "                continue\n",
        "\n",
        "            if len(remove_diacritics(sub_line).strip()) > 0 and len(remove_diacritics(sub_line).strip()) <= 500:\n",
        "                data_new.append(sub_line.strip())\n",
        "            else:\n",
        "                sub_line = sub_line.split()\n",
        "                tmp_line = ''\n",
        "                for word in sub_line:\n",
        "                    if len(remove_diacritics(tmp_line).strip()) + len(remove_diacritics(word).strip()) + 1 > 500:\n",
        "                        if len(remove_diacritics(tmp_line).strip()) > 0:\n",
        "                            data_new.append(tmp_line.strip())\n",
        "                        tmp_line = word\n",
        "                    else:\n",
        "                        if tmp_line == '':\n",
        "                            tmp_line = word\n",
        "                        else:\n",
        "                            tmp_line += ' '\n",
        "                            tmp_line += word\n",
        "                if len(remove_diacritics(tmp_line).strip()) > 0:\n",
        "                    data_new.append(tmp_line.strip())\n",
        "\n",
        "    return data_new"
      ]
    },
    {
      "cell_type": "code",
      "execution_count": 6,
      "metadata": {
        "colab": {
          "base_uri": "https://localhost:8080/"
        },
        "id": "OWGlOG5IF_WG",
        "outputId": "f4347e5a-7aa7-4736-92f6-9d92033990a6"
      },
      "outputs": [
        {
          "output_type": "stream",
          "name": "stdout",
          "text": [
            "Training examples (split): 299645\n",
            "Validation examples (split): 15341\n"
          ]
        }
      ],
      "source": [
        "train_split = split_data(train_raw)\n",
        "val_split = split_data(val_raw)\n",
        "print('Training examples (split):', len(train_split))\n",
        "print('Validation examples (split):', len(val_split))"
      ]
    },
    {
      "cell_type": "code",
      "execution_count": 7,
      "metadata": {
        "id": "J1f13U8bMnzQ"
      },
      "outputs": [],
      "source": [
        "def map_data(data_raw):\n",
        "    X = list()\n",
        "    Y = list()\n",
        "\n",
        "    for line in data_raw:\n",
        "        x = [CHARACTERS_MAPPING['<SOS>']]\n",
        "        y = [CLASSES_MAPPING['<SOS>']]\n",
        "\n",
        "        for idx, char in enumerate(line):\n",
        "            if char in DIACRITICS_LIST:\n",
        "                continue\n",
        "\n",
        "            x.append(CHARACTERS_MAPPING[char])\n",
        "\n",
        "            if char not in ARABIC_LETTERS_LIST:\n",
        "                y.append(CLASSES_MAPPING[''])\n",
        "            else:\n",
        "                char_diac = ''\n",
        "                if idx + 1 < len(line) and line[idx + 1] in DIACRITICS_LIST:\n",
        "                    char_diac = line[idx + 1]\n",
        "                    if idx + 2 < len(line) and line[idx + 2] in DIACRITICS_LIST and char_diac + line[idx + 2] in CLASSES_MAPPING:\n",
        "                        char_diac += line[idx + 2]\n",
        "                    elif idx + 2 < len(line) and line[idx + 2] in DIACRITICS_LIST and line[idx + 2] + char_diac in CLASSES_MAPPING:\n",
        "                        char_diac = line[idx + 2] + char_diac\n",
        "                y.append(CLASSES_MAPPING[char_diac])\n",
        "\n",
        "        assert(len(x) == len(y))\n",
        "\n",
        "        x.append(CHARACTERS_MAPPING['<EOS>'])\n",
        "        y.append(CLASSES_MAPPING['<EOS>'])\n",
        "\n",
        "        y = to_one_hot(y, len(CLASSES_MAPPING))\n",
        "\n",
        "        X.append(x)\n",
        "        Y.append(y)\n",
        "\n",
        "    X = np.asarray(X)\n",
        "    Y = np.asarray(Y)\n",
        "\n",
        "    return X, Y"
      ]
    },
    {
      "cell_type": "code",
      "execution_count": 8,
      "metadata": {
        "id": "XmWgseHQP4Qm"
      },
      "outputs": [],
      "source": [
        "import tensorflow as tf\n",
        "from tensorflow.keras.models import Model\n",
        "from tensorflow.keras.layers import Input, Embedding, Dense, Dropout, SimpleRNN, Flatten,TimeDistributed, Reshape\n",
        "from tensorflow.keras.optimizers import Adam\n",
        "from tensorflow.keras.utils import Sequence\n",
        "from tensorflow.keras.initializers import glorot_normal\n",
        "from tensorflow.keras.callbacks import ModelCheckpoint"
      ]
    },
    {
      "cell_type": "code",
      "execution_count": 9,
      "metadata": {
        "colab": {
          "base_uri": "https://localhost:8080/"
        },
        "id": "kgK8JJ8bMy5Z",
        "outputId": "f57d3e6f-1df6-4690-9f73-b24ffaae147e"
      },
      "outputs": [
        {
          "output_type": "stream",
          "name": "stdout",
          "text": [
            "[PhysicalDevice(name='/physical_device:GPU:0', device_type='GPU')]\n"
          ]
        }
      ],
      "source": [
        "print(tf.config.list_physical_devices('GPU'))"
      ]
    },
    {
      "cell_type": "code",
      "execution_count": 10,
      "metadata": {
        "colab": {
          "base_uri": "https://localhost:8080/"
        },
        "id": "GWjtr7TAYLzi",
        "outputId": "3acd643b-bdb3-4387-cc13-3f3f57e0b137"
      },
      "outputs": [
        {
          "output_type": "stream",
          "name": "stderr",
          "text": [
            "<ipython-input-7-5416c81cf8fa>:37: VisibleDeprecationWarning: Creating an ndarray from ragged nested sequences (which is a list-or-tuple of lists-or-tuples-or ndarrays with different lengths or shapes) is deprecated. If you meant to do this, you must specify 'dtype=object' when creating the ndarray.\n",
            "  X = np.asarray(X)\n",
            "<ipython-input-7-5416c81cf8fa>:38: VisibleDeprecationWarning: Creating an ndarray from ragged nested sequences (which is a list-or-tuple of lists-or-tuples-or ndarrays with different lengths or shapes) is deprecated. If you meant to do this, you must specify 'dtype=object' when creating the ndarray.\n",
            "  Y = np.asarray(Y)\n"
          ]
        },
        {
          "output_type": "execute_result",
          "data": {
            "text/plain": [
              "502"
            ]
          },
          "metadata": {},
          "execution_count": 10
        }
      ],
      "source": [
        "def get_max(lines):\n",
        "      X,Y = map_data(lines)\n",
        "      X_max_seq_len = np.max([len(x) for x in X])\n",
        "      return X_max_seq_len\n",
        "\n",
        "max_length = get_max(train_split)\n",
        "max_length"
      ]
    },
    {
      "cell_type": "code",
      "execution_count": 11,
      "metadata": {
        "id": "pYTJz-3ZhEiI"
      },
      "outputs": [],
      "source": [
        "vectorizer = TfidfVectorizer()\n",
        "tfidf_matrix = vectorizer.fit_transform(train_split)"
      ]
    },
    {
      "cell_type": "code",
      "source": [
        "def get_max(lines):\n",
        "      X,Y = map_data(lines)\n",
        "      X_max_seq_len = np.max([len(x) for x in X])\n",
        "      return X_max_seq_len\n",
        "\n",
        "max_length = get_max(train_split)\n",
        "max_length"
      ],
      "metadata": {
        "id": "n0isAVHgzgHh"
      },
      "execution_count": null,
      "outputs": []
    },
    {
      "cell_type": "code",
      "source": [
        "def create_model():\n",
        "\n",
        "    # Calculate TF-IDF (assuming text_data is your text corpus):\n",
        "    vectorizer = TfidfVectorizer()\n",
        "    tfidf_matrix = vectorizer.fit_transform(train_split)\n",
        "    # Create input layer directly from TF-IDF matrix:\n",
        "    inputs = Input(shape=(max_length, tfidf_matrix.shape[1]))  # Input shape is now TF-IDF features\n",
        "\n",
        "    # Flatten TF-IDF matrix:\n",
        "\n",
        "    rnn1 = SimpleRNN(units=256,\n",
        "                    return_sequences=True,\n",
        "                    kernel_initializer=glorot_normal(seed=961))(inputs)\n",
        "    dropout1 = Dropout(0.5)(rnn1)\n",
        "    rnn2 = SimpleRNN(units=256,\n",
        "                    return_sequences=True,\n",
        "                    kernel_initializer=glorot_normal(seed=961))(dropout1)\n",
        "    dropout2 = Dropout(0.5)(rnn2)\n",
        "\n",
        "    dense1 = TimeDistributed(Dense(units=512,\n",
        "                                   activation='relu',\n",
        "                                   kernel_initializer=glorot_normal(seed=961)))(dropout2)\n",
        "    dense2 = TimeDistributed(Dense(units=512,\n",
        "                                   activation='relu',\n",
        "                                   kernel_initializer=glorot_normal(seed=961)))(dense1)\n",
        "\n",
        "    output = TimeDistributed(Dense(units=len(CLASSES_MAPPING),\n",
        "                                   activation='softmax',\n",
        "                                   kernel_initializer=glorot_normal(seed=961)))(dense2)\n",
        "\n",
        "    model = Model(inputs, output)\n",
        "\n",
        "\n",
        "    #model.compile(loss='categorical_crossentropy', optimizer=Adam())\n",
        "    model.compile(loss='categorical_crossentropy', optimizer=Adam(), metrics=['accuracy'])\n",
        "\n",
        "    return model"
      ],
      "metadata": {
        "id": "vT8rWnbzzlr9"
      },
      "execution_count": null,
      "outputs": []
    },
    {
      "cell_type": "code",
      "source": [
        "model = create_model()\n",
        "model.summary()"
      ],
      "metadata": {
        "id": "xdfW6Ounzwp8"
      },
      "execution_count": null,
      "outputs": []
    },
    {
      "cell_type": "code",
      "source": [
        "class DataGenerator(Sequence):\n",
        "    def __init__(self, lines, batch_size):\n",
        "        self.lines = lines\n",
        "        self.batch_size = batch_size\n",
        "        self.vectorizer = vectorizer\n",
        "    def __len__(self):\n",
        "        return int(np.ceil(len(self.lines) / float(self.batch_size)))\n",
        "\n",
        "\n",
        "    def __getitem__(self, idx):\n",
        "        lines = self.lines[idx * self.batch_size:(idx + 1) * self.batch_size]\n",
        "        X_batch, Y_batch = map_data(lines)\n",
        "\n",
        "        # X_max_seq_len = np.max([len(x) for x in X_batch])\n",
        "        # Y_max_seq_len = np.max([len(y) for y in Y_batch])\n",
        "\n",
        "        X_max_seq_len = 502\n",
        "        Y_max_seq_len = 502\n",
        "\n",
        "\n",
        "\n",
        "        assert(X_max_seq_len == Y_max_seq_len)\n",
        "\n",
        "        X = list()\n",
        "        for x in X_batch:\n",
        "            x = list(x)\n",
        "            x.extend([CHARACTERS_MAPPING['<PAD>']] * (X_max_seq_len - len(x)))\n",
        "            X.append(np.asarray(x))\n",
        "        X_vec = vectorizer.transform(X)\n",
        "        Y_tmp = list()\n",
        "        for y in Y_batch:\n",
        "            y_new = list(y)\n",
        "            y_new.extend(to_one_hot([CLASSES_MAPPING['<PAD>']] * (Y_max_seq_len - len(y)), len(CLASSES_MAPPING)))\n",
        "            Y_tmp.append(np.asarray(y_new))\n",
        "        Y_batch = Y_tmp\n",
        "\n",
        "        Y_batch = np.asarray(Y_batch)\n",
        "\n",
        "        return np.asarray(X_vec), Y_batch\n",
        "\n",
        "def fit_model(model, epochs, batch_size, train_split, val_split):\n",
        "    random.shuffle(train_split)\n",
        "    train_split = list(sorted(train_split, key=lambda line: len(remove_diacritics(line))))\n",
        "    random.shuffle(val_split)\n",
        "    val_split = list(sorted(val_split, key=lambda line: len(remove_diacritics(line))))\n",
        "\n",
        "    checkpoint_path = 'checkpoints/epoch{epoch:02d}.ckpt'\n",
        "    checkpoint_cb = ModelCheckpoint(filepath=checkpoint_path, save_weights_only=True, save_freq='epoch')\n",
        "\n",
        "    training_generator = DataGenerator(train_split, batch_size)\n",
        "    val_generator = DataGenerator(val_split, batch_size)\n",
        "\n",
        "    model.fit(x=training_generator, validation_data=val_generator, epochs=epochs, callbacks=[checkpoint_cb])"
      ],
      "metadata": {
        "id": "WTbRspyez0l2"
      },
      "execution_count": null,
      "outputs": []
    },
    {
      "cell_type": "code",
      "source": [
        "start_time = time.time()\n",
        "fit_model(model, 5, 512, train_split, val_split)\n",
        "end_time = time.time()\n",
        "print('--- %s seconds ---' % round(end_time - start_time, 2))"
      ],
      "metadata": {
        "id": "90qM07yd0IiE"
      },
      "execution_count": null,
      "outputs": []
    },
    {
      "cell_type": "code",
      "source": [
        "def predict(line, model):\n",
        "    X, _ = map_data([line])\n",
        "    predictions = model.predict(X).squeeze()\n",
        "    predictions = predictions[1:]\n",
        "\n",
        "    output = ''\n",
        "    for char, prediction in zip(remove_diacritics(line), predictions):\n",
        "        output += char\n",
        "\n",
        "        if char not in ARABIC_LETTERS_LIST:\n",
        "            continue\n",
        "\n",
        "        if '<' in REV_CLASSES_MAPPING[np.argmax(prediction)]:\n",
        "            continue\n",
        "\n",
        "        output += REV_CLASSES_MAPPING[np.argmax(prediction)]\n",
        "\n",
        "    return output"
      ],
      "metadata": {
        "id": "UIY5_Q9N0Uce"
      },
      "execution_count": null,
      "outputs": []
    }
  ],
  "metadata": {
    "accelerator": "GPU",
    "colab": {
      "provenance": []
    },
    "kernelspec": {
      "display_name": "Python 3",
      "name": "python3"
    },
    "language_info": {
      "name": "python"
    }
  },
  "nbformat": 4,
  "nbformat_minor": 0
}