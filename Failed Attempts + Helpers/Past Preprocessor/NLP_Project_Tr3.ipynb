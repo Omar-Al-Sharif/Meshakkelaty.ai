{
  "cells": [
    {
      "cell_type": "code",
      "execution_count": null,
      "metadata": {
        "colab": {
          "base_uri": "https://localhost:8080/"
        },
        "id": "GEwaR-9UlAYW",
        "outputId": "e752f509-a7ad-45f1-88f2-8d6056e54ee3"
      },
      "outputs": [
        {
          "name": "stdout",
          "output_type": "stream",
          "text": [
            "Colab: mounting Google drive on  /content/gdrive\n",
            "Mounted at /content/gdrive\n",
            "\n",
            "Colab: making sure  /content/gdrive/My Drive/Colab Notebooks/NLP_tr3  exists.\n",
            "\n",
            "Colab: Changing directory to  /content/gdrive/My Drive/Colab Notebooks/NLP_tr3\n",
            "/content/gdrive/My Drive/Colab Notebooks/NLP_tr3\n"
          ]
        }
      ],
      "source": [
        "from google.colab import drive\n",
        "# Mount the Google Drive at mount\n",
        "mount='/content/gdrive'\n",
        "print(\"Colab: mounting Google drive on \", mount)\n",
        "\n",
        "drive.mount(mount)\n",
        "\n",
        "# Switch to the directory on the Google Drive that you want to use\n",
        "import os\n",
        "drive_root = mount + \"/My Drive/Colab Notebooks/NLP_tr3\"\n",
        "\n",
        "# Create drive_root if it doesn't exist\n",
        "create_drive_root = True\n",
        "if create_drive_root:\n",
        "  print(\"\\nColab: making sure \", drive_root, \" exists.\")\n",
        "  os.makedirs(drive_root, exist_ok=True)\n",
        "\n",
        "# Change to the directory\n",
        "print(\"\\nColab: Changing directory to \", drive_root)\n",
        "%cd $drive_root"
      ]
    },
    {
      "cell_type": "code",
      "execution_count": null,
      "metadata": {
        "colab": {
          "base_uri": "https://localhost:8080/"
        },
        "id": "i95XtZE7g5MS",
        "outputId": "9515087b-a3b9-4469-ed73-f8ccc7bc8a97"
      },
      "outputs": [
        {
          "name": "stdout",
          "output_type": "stream",
          "text": [
            "/content/gdrive/My Drive/Colab Notebooks/NLP_tr3/models/rnn_models/1_basic_model\n"
          ]
        }
      ],
      "source": [
        "%cd models/rnn_models/1_basic_model/"
      ]
    },
    {
      "cell_type": "code",
      "execution_count": null,
      "metadata": {
        "id": "Pjbfa7AW8zwC"
      },
      "outputs": [],
      "source": [
        "import time\n",
        "import random\n",
        "import numpy as np\n",
        "import pickle as pkl\n",
        "import tensorflow as tf\n",
        "from tensorflow.keras.models import Model\n",
        "from tensorflow.keras.layers import Input, Embedding, Dense, Dropout, LSTM, Bidirectional, TimeDistributed\n",
        "from tensorflow.keras.optimizers import Adam\n",
        "from tensorflow.keras.utils import Sequence\n",
        "from tensorflow.keras.initializers import glorot_normal\n",
        "from tensorflow.keras.callbacks import ModelCheckpoint"
      ]
    },
    {
      "cell_type": "code",
      "execution_count": null,
      "metadata": {
        "id": "pQ0y2Zf387Ik"
      },
      "outputs": [],
      "source": [
        "WITH_EXTRA_TRAIN = False\n",
        "DATASET_PATH = '../../../dataset'\n",
        "CONSTANTS_PATH = '../../../helpers/constants'\n",
        "\n",
        "with open(CONSTANTS_PATH + '/ARABIC_LETTERS_LIST.pickle', 'rb') as file:\n",
        "    ARABIC_LETTERS_LIST = pkl.load(file)\n",
        "with open(CONSTANTS_PATH + '/DIACRITICS_LIST.pickle', 'rb') as file:\n",
        "    DIACRITICS_LIST = pkl.load(file)\n",
        "if not WITH_EXTRA_TRAIN:\n",
        "    with open(CONSTANTS_PATH + '/RNN_SMALL_CHARACTERS_MAPPING.pickle', 'rb') as file:\n",
        "        CHARACTERS_MAPPING = pkl.load(file)\n",
        "else:\n",
        "    with open(CONSTANTS_PATH + '/RNN_BIG_CHARACTERS_MAPPING.pickle', 'rb') as file:\n",
        "        CHARACTERS_MAPPING = pkl.load(file)\n",
        "with open(CONSTANTS_PATH + '/RNN_CLASSES_MAPPING.pickle', 'rb') as file:\n",
        "    CLASSES_MAPPING = pkl.load(file)\n",
        "with open(CONSTANTS_PATH + '/RNN_REV_CLASSES_MAPPING.pickle', 'rb') as file:\n",
        "    REV_CLASSES_MAPPING = pkl.load(file)"
      ]
    },
    {
      "cell_type": "code",
      "execution_count": null,
      "metadata": {
        "colab": {
          "base_uri": "https://localhost:8080/"
        },
        "id": "kenegB2z9CUl",
        "outputId": "1e315622-70a7-43ff-8103-4b6b11eea9ad"
      },
      "outputs": [
        {
          "name": "stdout",
          "output_type": "stream",
          "text": [
            "Training examples (raw): 50000\n",
            "Validation examples (raw): 2500\n"
          ]
        }
      ],
      "source": [
        "train_raw = None\n",
        "with open(DATASET_PATH + '/train.txt', 'r', encoding='utf-8') as file:\n",
        "    train_raw = file.readlines()\n",
        "if WITH_EXTRA_TRAIN:\n",
        "    with open(DATASET_PATH + '/extra_train.txt', encoding='utf-8') as file:\n",
        "        train_raw += file.readlines()\n",
        "print('Training examples (raw):', len(train_raw))\n",
        "\n",
        "val_raw = None\n",
        "with open(DATASET_PATH + '/val.txt', encoding='utf-8') as file:\n",
        "    val_raw = file.readlines()\n",
        "print('Validation examples (raw):', len(val_raw))"
      ]
    },
    {
      "cell_type": "code",
      "execution_count": null,
      "metadata": {
        "id": "AbXPnN2P9SOA"
      },
      "outputs": [],
      "source": [
        "def remove_diacritics(data_raw):\n",
        "    return data_raw.translate(str.maketrans('', '', ''.join(DIACRITICS_LIST)))\n",
        "\n",
        "def to_one_hot(data, size):\n",
        "    one_hot = list()\n",
        "    for elem in data:\n",
        "        cur = [0] * size\n",
        "        cur[elem] = 1\n",
        "        one_hot.append(cur)\n",
        "    return one_hot\n",
        "\n",
        "def split_data(data_raw):\n",
        "    data_new = list()\n",
        "\n",
        "    for line in data_raw:\n",
        "        line = line.replace('.', '.\\n')\n",
        "        line = line.replace(',', ',\\n')\n",
        "        line = line.replace('،', '،\\n')\n",
        "        line = line.replace(':', ':\\n')\n",
        "        line = line.replace(';', ';\\n')\n",
        "        line = line.replace('؛', '؛\\n')\n",
        "        line = line.replace('(', '\\n(')\n",
        "        line = line.replace(')', ')\\n')\n",
        "        line = line.replace('[', '\\n[')\n",
        "        line = line.replace(']', ']\\n')\n",
        "        line = line.replace('{', '\\n{')\n",
        "        line = line.replace('}', '}\\n')\n",
        "        line = line.replace('«', '\\n«')\n",
        "        line = line.replace('»', '»\\n')\n",
        "\n",
        "        for sub_line in line.split('\\n'):\n",
        "            if len(remove_diacritics(sub_line).strip()) == 0:\n",
        "                continue\n",
        "\n",
        "            if len(remove_diacritics(sub_line).strip()) > 0 and len(remove_diacritics(sub_line).strip()) <= 500:\n",
        "                data_new.append(sub_line.strip())\n",
        "            else:\n",
        "                sub_line = sub_line.split()\n",
        "                tmp_line = ''\n",
        "                for word in sub_line:\n",
        "                    if len(remove_diacritics(tmp_line).strip()) + len(remove_diacritics(word).strip()) + 1 > 500:\n",
        "                        if len(remove_diacritics(tmp_line).strip()) > 0:\n",
        "                            data_new.append(tmp_line.strip())\n",
        "                        tmp_line = word\n",
        "                    else:\n",
        "                        if tmp_line == '':\n",
        "                            tmp_line = word\n",
        "                        else:\n",
        "                            tmp_line += ' '\n",
        "                            tmp_line += word\n",
        "                if len(remove_diacritics(tmp_line).strip()) > 0:\n",
        "                    data_new.append(tmp_line.strip())\n",
        "\n",
        "    return data_new"
      ]
    },
    {
      "cell_type": "code",
      "execution_count": null,
      "metadata": {
        "colab": {
          "base_uri": "https://localhost:8080/"
        },
        "id": "8iw0wPb79b1g",
        "outputId": "7905ef4c-a87d-4e45-a697-1e1e2ac7505e"
      },
      "outputs": [
        {
          "name": "stdout",
          "output_type": "stream",
          "text": [
            "Training examples (split): 299645\n",
            "Validation examples (split): 15341\n"
          ]
        }
      ],
      "source": [
        "train_split = split_data(train_raw)\n",
        "val_split = split_data(val_raw)\n",
        "print('Training examples (split):', len(train_split))\n",
        "print('Validation examples (split):', len(val_split))"
      ]
    },
    {
      "cell_type": "code",
      "execution_count": null,
      "metadata": {
        "id": "K-PMM-EI9jKs"
      },
      "outputs": [],
      "source": [
        "def map_data(data_raw):\n",
        "    X = list()\n",
        "    Y = list()\n",
        "\n",
        "    for line in data_raw:\n",
        "        x = [CHARACTERS_MAPPING['<SOS>']]\n",
        "        y = [CLASSES_MAPPING['<SOS>']]\n",
        "\n",
        "        for idx, char in enumerate(line):\n",
        "            if char in DIACRITICS_LIST:\n",
        "                continue\n",
        "\n",
        "            x.append(CHARACTERS_MAPPING[char])\n",
        "\n",
        "            if char not in ARABIC_LETTERS_LIST:\n",
        "                y.append(CLASSES_MAPPING[''])\n",
        "            else:\n",
        "                char_diac = ''\n",
        "                if idx + 1 < len(line) and line[idx + 1] in DIACRITICS_LIST:\n",
        "                    char_diac = line[idx + 1]\n",
        "                    if idx + 2 < len(line) and line[idx + 2] in DIACRITICS_LIST and char_diac + line[idx + 2] in CLASSES_MAPPING:\n",
        "                        char_diac += line[idx + 2]\n",
        "                    elif idx + 2 < len(line) and line[idx + 2] in DIACRITICS_LIST and line[idx + 2] + char_diac in CLASSES_MAPPING:\n",
        "                        char_diac = line[idx + 2] + char_diac\n",
        "                y.append(CLASSES_MAPPING[char_diac])\n",
        "\n",
        "        assert(len(x) == len(y))\n",
        "\n",
        "        x.append(CHARACTERS_MAPPING['<EOS>'])\n",
        "        y.append(CLASSES_MAPPING['<EOS>'])\n",
        "\n",
        "        y = to_one_hot(y, len(CLASSES_MAPPING))\n",
        "\n",
        "        X.append(x)\n",
        "        Y.append(y)\n",
        "\n",
        "    X = np.asarray(X)\n",
        "    Y = np.asarray(Y)\n",
        "\n",
        "    return X, Y"
      ]
    },
    {
      "cell_type": "code",
      "execution_count": null,
      "metadata": {
        "colab": {
          "base_uri": "https://localhost:8080/"
        },
        "id": "kBOjSIVg9vCW",
        "outputId": "25954b1c-50ce-4120-804f-cce7cbc8157c"
      },
      "outputs": [
        {
          "name": "stdout",
          "output_type": "stream",
          "text": [
            "[PhysicalDevice(name='/physical_device:GPU:0', device_type='GPU')]\n"
          ]
        }
      ],
      "source": [
        "print(tf.config.list_physical_devices('GPU'))"
      ]
    },
    {
      "cell_type": "code",
      "execution_count": null,
      "metadata": {
        "id": "5f-eHFtG90Tg"
      },
      "outputs": [],
      "source": [
        "def create_model():\n",
        "\n",
        "    SelectedLSTM = LSTM\n",
        "\n",
        "    inputs = Input(shape=(None,))\n",
        "\n",
        "    embeddings = Embedding(input_dim=len(CHARACTERS_MAPPING),\n",
        "                           output_dim=25,\n",
        "                           embeddings_initializer=glorot_normal(seed=961))(inputs)\n",
        "\n",
        "    blstm1 = Bidirectional(SelectedLSTM(units=256,\n",
        "                                     return_sequences=True,\n",
        "                                     kernel_initializer=glorot_normal(seed=961)))(embeddings)\n",
        "    dropout1 = Dropout(0.5)(blstm1)\n",
        "    blstm2 = Bidirectional(SelectedLSTM(units=256,\n",
        "                                     return_sequences=True,\n",
        "                                     kernel_initializer=glorot_normal(seed=961)))(dropout1)\n",
        "    dropout2 = Dropout(0.5)(blstm2)\n",
        "\n",
        "    dense1 = TimeDistributed(Dense(units=512,\n",
        "                                   activation='relu',\n",
        "                                   kernel_initializer=glorot_normal(seed=961)))(dropout2)\n",
        "    dense2 = TimeDistributed(Dense(units=512,\n",
        "                                   activation='relu',\n",
        "                                   kernel_initializer=glorot_normal(seed=961)))(dense1)\n",
        "\n",
        "    output = TimeDistributed(Dense(units=len(CLASSES_MAPPING),\n",
        "                                   activation='softmax',\n",
        "                                   kernel_initializer=glorot_normal(seed=961)))(dense2)\n",
        "\n",
        "    model = Model(inputs, output)\n",
        "\n",
        "    #model.compile(loss='categorical_crossentropy', optimizer=Adam())\n",
        "    model.compile(loss='categorical_crossentropy', optimizer=Adam(), metrics=['accuracy'])\n",
        "\n",
        "    return model"
      ]
    },
    {
      "cell_type": "code",
      "execution_count": null,
      "metadata": {
        "colab": {
          "base_uri": "https://localhost:8080/"
        },
        "id": "Gp-rzbeM-Qfn",
        "outputId": "82ba587b-ae13-4d8e-ecc7-2246a7b0eb67"
      },
      "outputs": [
        {
          "name": "stdout",
          "output_type": "stream",
          "text": [
            "Model: \"model_1\"\n",
            "_________________________________________________________________\n",
            " Layer (type)                Output Shape              Param #   \n",
            "=================================================================\n",
            " input_2 (InputLayer)        [(None, None)]            0         \n",
            "                                                                 \n",
            " embedding_1 (Embedding)     (None, None, 25)          1925      \n",
            "                                                                 \n",
            " bidirectional_2 (Bidirecti  (None, None, 512)         577536    \n",
            " onal)                                                           \n",
            "                                                                 \n",
            " dropout_2 (Dropout)         (None, None, 512)         0         \n",
            "                                                                 \n",
            " bidirectional_3 (Bidirecti  (None, None, 512)         1574912   \n",
            " onal)                                                           \n",
            "                                                                 \n",
            " dropout_3 (Dropout)         (None, None, 512)         0         \n",
            "                                                                 \n",
            " time_distributed_3 (TimeDi  (None, None, 512)         262656    \n",
            " stributed)                                                      \n",
            "                                                                 \n",
            " time_distributed_4 (TimeDi  (None, None, 512)         262656    \n",
            " stributed)                                                      \n",
            "                                                                 \n",
            " time_distributed_5 (TimeDi  (None, None, 19)          9747      \n",
            " stributed)                                                      \n",
            "                                                                 \n",
            "=================================================================\n",
            "Total params: 2689432 (10.26 MB)\n",
            "Trainable params: 2689432 (10.26 MB)\n",
            "Non-trainable params: 0 (0.00 Byte)\n",
            "_________________________________________________________________\n"
          ]
        }
      ],
      "source": [
        "model = create_model()\n",
        "model.summary()"
      ]
    },
    {
      "cell_type": "code",
      "execution_count": null,
      "metadata": {
        "id": "oifBxPs9-T2U"
      },
      "outputs": [],
      "source": [
        "class DataGenerator(Sequence):\n",
        "    def __init__(self, lines, batch_size):\n",
        "        self.lines = lines\n",
        "        self.batch_size = batch_size\n",
        "\n",
        "    def __len__(self):\n",
        "        return int(np.ceil(len(self.lines) / float(self.batch_size)))\n",
        "\n",
        "    def __getitem__(self, idx):\n",
        "        lines = self.lines[idx * self.batch_size:(idx + 1) * self.batch_size]\n",
        "        X_batch, Y_batch = map_data(lines)\n",
        "\n",
        "        X_max_seq_len = np.max([len(x) for x in X_batch])\n",
        "        Y_max_seq_len = np.max([len(y) for y in Y_batch])\n",
        "\n",
        "        assert(X_max_seq_len == Y_max_seq_len)\n",
        "\n",
        "        X = list()\n",
        "        for x in X_batch:\n",
        "            x = list(x)\n",
        "            x.extend([CHARACTERS_MAPPING['<PAD>']] * (X_max_seq_len - len(x)))\n",
        "            X.append(np.asarray(x))\n",
        "\n",
        "        Y_tmp = list()\n",
        "        for y in Y_batch:\n",
        "            y_new = list(y)\n",
        "            y_new.extend(to_one_hot([CLASSES_MAPPING['<PAD>']] * (Y_max_seq_len - len(y)), len(CLASSES_MAPPING)))\n",
        "            Y_tmp.append(np.asarray(y_new))\n",
        "        Y_batch = Y_tmp\n",
        "\n",
        "        Y_batch = np.asarray(Y_batch)\n",
        "\n",
        "        return np.asarray(X), Y_batch\n",
        "\n",
        "def fit_model(model, epochs, batch_size, train_split, val_split):\n",
        "    random.shuffle(train_split)\n",
        "    train_split = list(sorted(train_split, key=lambda line: len(remove_diacritics(line))))\n",
        "    random.shuffle(val_split)\n",
        "    val_split = list(sorted(val_split, key=lambda line: len(remove_diacritics(line))))\n",
        "\n",
        "    checkpoint_path = 'checkpoints/epoch{epoch:02d}.ckpt'\n",
        "    checkpoint_cb = ModelCheckpoint(filepath=checkpoint_path, save_weights_only=True, save_freq='epoch')\n",
        "\n",
        "    training_generator = DataGenerator(train_split, batch_size)\n",
        "    val_generator = DataGenerator(val_split, batch_size)\n",
        "\n",
        "    model.fit(x=training_generator, validation_data=val_generator, epochs=epochs, callbacks=[checkpoint_cb])"
      ]
    },
    {
      "cell_type": "code",
      "execution_count": null,
      "metadata": {
        "colab": {
          "base_uri": "https://localhost:8080/"
        },
        "id": "Pd5LVpl-_Hoi",
        "outputId": "21e173ae-2f6c-4270-d84d-8f824b586efc"
      },
      "outputs": [
        {
          "name": "stdout",
          "output_type": "stream",
          "text": [
            "Epoch 1/5\n"
          ]
        },
        {
          "name": "stderr",
          "output_type": "stream",
          "text": [
            "<ipython-input-8-39f300503b03>:37: VisibleDeprecationWarning: Creating an ndarray from ragged nested sequences (which is a list-or-tuple of lists-or-tuples-or ndarrays with different lengths or shapes) is deprecated. If you meant to do this, you must specify 'dtype=object' when creating the ndarray.\n",
            "  X = np.asarray(X)\n",
            "<ipython-input-8-39f300503b03>:38: VisibleDeprecationWarning: Creating an ndarray from ragged nested sequences (which is a list-or-tuple of lists-or-tuples-or ndarrays with different lengths or shapes) is deprecated. If you meant to do this, you must specify 'dtype=object' when creating the ndarray.\n",
            "  Y = np.asarray(Y)\n"
          ]
        },
        {
          "name": "stdout",
          "output_type": "stream",
          "text": [
            "586/586 [==============================] - 172s 195ms/step - loss: 0.7361 - accuracy: 0.7029 - val_loss: 0.3047 - val_accuracy: 0.8893\n",
            "Epoch 2/5\n",
            "586/586 [==============================] - 109s 185ms/step - loss: 0.2760 - accuracy: 0.8839 - val_loss: 0.1805 - val_accuracy: 0.9357\n",
            "Epoch 3/5\n",
            "586/586 [==============================] - 110s 188ms/step - loss: 0.1934 - accuracy: 0.9200 - val_loss: 0.1405 - val_accuracy: 0.9515\n",
            "Epoch 4/5\n",
            "586/586 [==============================] - 111s 189ms/step - loss: 0.1576 - accuracy: 0.9361 - val_loss: 0.1121 - val_accuracy: 0.9621\n",
            "Epoch 5/5\n",
            "586/586 [==============================] - 110s 189ms/step - loss: 0.1348 - accuracy: 0.9464 - val_loss: 0.0999 - val_accuracy: 0.9665\n",
            "--- 646.78 seconds ---\n"
          ]
        }
      ],
      "source": [
        "start_time = time.time()\n",
        "fit_model(model, 5, 512, train_split, val_split)\n",
        "end_time = time.time()\n",
        "print('--- %s seconds ---' % round(end_time - start_time, 2))"
      ]
    },
    {
      "cell_type": "code",
      "execution_count": null,
      "metadata": {
        "id": "iOTUpqeG_Usb"
      },
      "outputs": [],
      "source": [
        "def predict(line, model):\n",
        "    X, _ = map_data([line])\n",
        "    predictions = model.predict(X).squeeze()\n",
        "    predictions = predictions[1:]\n",
        "\n",
        "    output = ''\n",
        "    for char, prediction in zip(remove_diacritics(line), predictions):\n",
        "        output += char\n",
        "\n",
        "        if char not in ARABIC_LETTERS_LIST:\n",
        "            continue\n",
        "\n",
        "        if '<' in REV_CLASSES_MAPPING[np.argmax(prediction)]:\n",
        "            continue\n",
        "\n",
        "        output += REV_CLASSES_MAPPING[np.argmax(prediction)]\n",
        "\n",
        "    return output\n"
      ]
    },
    {
      "cell_type": "code",
      "execution_count": null,
      "metadata": {
        "colab": {
          "base_uri": "https://localhost:8080/"
        },
        "id": "GLmT3ZXKAVkS",
        "outputId": "a067efca-8795-4fd0-f619-4f905fd06ebd"
      },
      "outputs": [
        {
          "name": "stdout",
          "output_type": "stream",
          "text": [
            "1/1 [==============================] - 2s 2s/step\n",
            "مُرْحَّبًا كَيْفَ الْحَالِ يَا صَدِيقِيْ الْعَزِيزِ\n"
          ]
        }
      ],
      "source": [
        "print(predict('مرحبا كيف الحال يا صديقي العزيز', model))"
      ]
    },
    {
      "cell_type": "code",
      "execution_count": null,
      "metadata": {
        "id": "hxxdV2KpAXkS"
      },
      "outputs": [],
      "source": [
        "with open(DATASET_PATH + '/test.txt', 'r') as file:\n",
        "    lines = file.readlines()\n",
        "\n",
        "# %%\n",
        "results = list()\n",
        "for idx, line in enumerate(lines):\n",
        "    line = remove_diacritics(line.strip())\n",
        "    x = predict(line, model)\n",
        "    results.append(x)\n",
        "\n",
        "# %%\n",
        "with open('outputs.txt', 'w') as file:\n",
        "    file.write('\\n'.join(results))"
      ]
    }
  ],
  "metadata": {
    "accelerator": "GPU",
    "colab": {
      "gpuType": "T4",
      "provenance": []
    },
    "kernelspec": {
      "display_name": "Python 3",
      "name": "python3"
    },
    "language_info": {
      "name": "python",
      "version": "3.12.1"
    }
  },
  "nbformat": 4,
  "nbformat_minor": 0
}
