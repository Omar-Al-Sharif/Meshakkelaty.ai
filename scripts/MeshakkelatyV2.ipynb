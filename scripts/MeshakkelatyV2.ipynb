{
 "cells": [
  {
   "cell_type": "code",
   "execution_count": 9,
   "metadata": {},
   "outputs": [
    {
     "name": "stdout",
     "output_type": "stream",
     "text": [
      "الألباب\n"
     ]
    }
   ],
   "source": [
    "import re \n",
    "\n",
    "#double damma, double fatha, double kasera, damma, fatha, kasera, sukoon, shadd\n",
    "TASHKEEL_SET = {'ٌ', 'ً', 'ٍ', 'ُ', 'َ', 'ِ', 'ْ', 'ٌّ', 'ّ'}\n",
    "DIACRITICS_REGEX = re.compile('|'.join(TASHKEEL_SET))\n",
    "def remove_tashkeel(data):\n",
    "    return re.sub(DIACRITICS_REGEX, '', data)\n",
    "\n",
    "print(remove_tashkeel('الْأَلْبَاب'))"
   ]
  },
  {
   "cell_type": "code",
   "execution_count": 10,
   "metadata": {},
   "outputs": [
    {
     "name": "stdout",
     "output_type": "stream",
     "text": [
      "[[1, 0, 0, 0, 0, 0, 0, 0, 0, 0], [0, 1, 0, 0, 0, 0, 0, 0, 0, 0], [0, 0, 1, 0, 0, 0, 0, 0, 0, 0]]\n"
     ]
    }
   ],
   "source": [
    "def one_hot_encode(indices, size):\n",
    "    return [[1 if i == elem else 0 for i in range(size)] for elem in indices]\n",
    "\n",
    "print(one_hot_encode([0, 1, 2],10) )"
   ]
  },
  {
   "cell_type": "code",
   "execution_count": null,
   "metadata": {},
   "outputs": [],
   "source": []
  }
 ],
 "metadata": {
  "kernelspec": {
   "display_name": "nlp",
   "language": "python",
   "name": "python3"
  },
  "language_info": {
   "codemirror_mode": {
    "name": "ipython",
    "version": 3
   },
   "file_extension": ".py",
   "mimetype": "text/x-python",
   "name": "python",
   "nbconvert_exporter": "python",
   "pygments_lexer": "ipython3",
   "version": "3.9.13"
  }
 },
 "nbformat": 4,
 "nbformat_minor": 2
}
