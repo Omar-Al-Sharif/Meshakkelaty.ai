{
 "cells": [
  {
   "cell_type": "code",
   "execution_count": 67,
   "metadata": {},
   "outputs": [
    {
     "name": "stdout",
     "output_type": "stream",
     "text": [
      "الألباب\n"
     ]
    }
   ],
   "source": [
    "import re \n",
    "\n",
    "#double damma, double fatha, double kasera, damma, fatha, kasera, sukoon, shadd\n",
    "TASHKEEL_SET = {'ٌ', 'ً', 'ٍ', 'ُ', 'َ', 'ِ', 'ْ', 'ٌّ', 'ّ'}\n",
    "DIACRITICS_REGEX = re.compile('|'.join(TASHKEEL_SET))\n",
    "def remove_tashkeel(data):\n",
    "    return re.sub(DIACRITICS_REGEX, '', data)\n",
    "\n",
    "print(remove_tashkeel('الْأَلْبَاب'))"
   ]
  },
  {
   "cell_type": "code",
   "execution_count": 68,
   "metadata": {},
   "outputs": [
    {
     "name": "stdout",
     "output_type": "stream",
     "text": [
      "[[1, 0, 0, 0, 0, 0, 0, 0, 0, 0], [0, 1, 0, 0, 0, 0, 0, 0, 0, 0], [0, 0, 1, 0, 0, 0, 0, 0, 0, 0]]\n"
     ]
    }
   ],
   "source": [
    "def one_hot_encode(indices, size):\n",
    "    return [[1 if i == elem else 0 for i in range(size)] for elem in indices]\n",
    "\n",
    "print(one_hot_encode([0, 1, 2],10) )"
   ]
  },
  {
   "cell_type": "code",
   "execution_count": 69,
   "metadata": {},
   "outputs": [],
   "source": [
    "import re\n",
    "\n",
    "def chunk_text(text, chunk_size):\n",
    "    chunks = []\n",
    "    words = re.findall(r'\\S+', text)\n",
    "\n",
    "    current_chunk = \"\"\n",
    "    for word in words:\n",
    "        if len(current_chunk) + len(word) + 1 <= chunk_size:\n",
    "            current_chunk += f\"{word} \"\n",
    "        else:\n",
    "            chunks.append(current_chunk.strip())\n",
    "            current_chunk = f\"{word} \"\n",
    "\n",
    "    if current_chunk:\n",
    "        chunks.append(current_chunk.strip())\n",
    "\n",
    "    return list(filter(None, chunks))\n",
    "\n",
    "def tokenize_lines(data_raw):\n",
    "    # Define a pattern to match specific punctuation marks\n",
    "    punctuation_pattern1 = r'([.,:;؛)\\]}»،])'\n",
    "    punctuation_pattern2 = r'([(\\[{«])'\n",
    "    tokenized_lines = []\n",
    "\n",
    "    for line in data_raw:\n",
    "        # Replace matched punctuation marks with the same followed by a line break\n",
    "        splitted_line = re.sub(punctuation_pattern1, r'\\1\\n', line)\n",
    "        splitted_line = re.sub(punctuation_pattern2, r'\\n\\1', splitted_line)\n",
    "\n",
    "        # Further split the splitted line into substrings based on line breaks\n",
    "        for sub_line in splitted_line.split('\\n'):\n",
    "            cleaned_sub_line = remove_tashkeel(sub_line).strip()\n",
    "            if 0 < len(cleaned_sub_line) <= 500:\n",
    "                tokenized_lines.append(sub_line.strip())\n",
    "\n",
    "            elif len(cleaned_sub_line) > 500:\n",
    "                tokenized_lines.extend(chunk_text(sub_line.strip(), 500))\n",
    "    \n",
    "    return tokenized_lines\n"
   ]
  },
  {
   "cell_type": "code",
   "execution_count": 70,
   "metadata": {},
   "outputs": [
    {
     "name": "stdout",
     "output_type": "stream",
     "text": [
      "Validation examples (raw): 2500\n",
      "Val split saved to ../data/val_split_output.txt\n"
     ]
    }
   ],
   "source": [
    "val_raw = None\n",
    "with open('../data/val.txt', encoding='utf-8') as file:\n",
    "    val_raw = file.readlines()\n",
    "print('Validation examples (raw):', len(val_raw))\n",
    "\n",
    "val_split = tokenize_lines(val_raw)\n",
    "\n",
    "file_path = \"../data/val_split_output.txt\"\n",
    "\n",
    "# Write each list item to a new line in the text file\n",
    "with open(file_path, 'w', encoding='utf-8') as file:\n",
    "    for item in val_split:\n",
    "        file.write(f\"{item}\\n\")\n",
    "\n",
    "print(f\"Val split saved to {file_path}\")\n"
   ]
  }
 ],
 "metadata": {
  "kernelspec": {
   "display_name": "nlp",
   "language": "python",
   "name": "python3"
  },
  "language_info": {
   "codemirror_mode": {
    "name": "ipython",
    "version": 3
   },
   "file_extension": ".py",
   "mimetype": "text/x-python",
   "name": "python",
   "nbconvert_exporter": "python",
   "pygments_lexer": "ipython3",
   "version": "3.9.13"
  }
 },
 "nbformat": 4,
 "nbformat_minor": 2
}
